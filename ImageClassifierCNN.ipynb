{
  "nbformat": 4,
  "nbformat_minor": 0,
  "metadata": {
    "kernelspec": {
      "display_name": "Python 3",
      "language": "python",
      "name": "python3"
    },
    "language_info": {
      "codemirror_mode": {
        "name": "ipython",
        "version": 3
      },
      "file_extension": ".py",
      "mimetype": "text/x-python",
      "name": "python",
      "nbconvert_exporter": "python",
      "pygments_lexer": "ipython3",
      "version": "3.6.9"
    },
    "colab": {
      "name": "ImageClassifierCNN.ipynb",
      "provenance": []
    },
    "accelerator": "GPU"
  },
  "cells": [
    {
      "cell_type": "code",
      "metadata": {
        "id": "jnP4Bajm3H-n"
      },
      "source": [
        "from google.colab import drive\n",
        "drive.mount('/content/drive', force_remount=True)"
      ],
      "execution_count": null,
      "outputs": []
    },
    {
      "cell_type": "code",
      "metadata": {
        "id": "RbpkPA7R4-eP"
      },
      "source": [
        "%tensorflow_version 1.x\n",
        "!pip install livelossplot\n",
        "!pip install efficientnet"
      ],
      "execution_count": null,
      "outputs": []
    },
    {
      "cell_type": "code",
      "metadata": {
        "id": "qZRK7har2_vT"
      },
      "source": [
        "%matplotlib inline\n",
        "import matplotlib.pyplot as plt\n",
        "import matplotlib.image as mpimg\n",
        "import tensorflow as tf\n",
        "from keras.preprocessing.image import ImageDataGenerator\n",
        "from keras.models import Sequential, Model\n",
        "from keras.optimizers import RMSprop\n",
        "from keras.layers import Activation, Dropout, Flatten, Dense, GlobalMaxPooling2D, Conv2D, MaxPooling2D\n",
        "from keras.callbacks import CSVLogger, EarlyStopping, ModelCheckpoint\n",
        "from livelossplot.keras import PlotLossesCallback\n",
        "import efficientnet.keras as efn"
      ],
      "execution_count": null,
      "outputs": []
    },
    {
      "cell_type": "code",
      "metadata": {
        "id": "ITmW2yRi2_vb"
      },
      "source": [
        "TRAINING_LOGS_FILE = \"/content/drive/My Drive/AI/comic_covers_logs.csv\"\n",
        "MODEL_SUMMARY_FILE = \"model_summary.txt\"\n",
        "MODEL_FILE = \"/content/drive/My Drive/AI/comic_covers-v3.model\"\n",
        "\n",
        "# Data\n",
        "path = \"/content/drive/My Drive/AI/corpus-comics/\"\n",
        "training_data_dir = path + \"training\" # 10 000 * 2\n",
        "validation_data_dir = path + \"validation\" # 2 500 * 2\n",
        "test_data_dir = path + \"test\" # 12 500"
      ],
      "execution_count": null,
      "outputs": []
    },
    {
      "cell_type": "code",
      "metadata": {
        "id": "a70uPYJh2_vg"
      },
      "source": [
        "# Hyperparams\n",
        "IMAGE_SIZE = 512\n",
        "IMAGE_WIDTH, IMAGE_HEIGHT = IMAGE_SIZE, IMAGE_SIZE\n",
        "EPOCHS = 20\n",
        "BATCH_SIZE = 32\n",
        "TEST_SIZE = 24\n",
        "\n",
        "input_shape = (IMAGE_WIDTH, IMAGE_HEIGHT, 3)"
      ],
      "execution_count": null,
      "outputs": []
    },
    {
      "cell_type": "code",
      "metadata": {
        "id": "NmA3OhuBhFFT"
      },
      "source": [
        "# EfficientNet test\n",
        "import efficientnet.keras as efn\n",
        "model = Sequential()\n",
        "efficient_net = efn.EfficientNetB7(weights='imagenet', include_top=False, input_shape=input_shape)\n",
        "#efficient_net.trainable = False\n",
        "for index, layer in enumerate(efficient_net.layers):\n",
        "    if index < 761:\n",
        "        layer.trainable = False\n",
        "model.add(efficient_net)\n",
        "#model.add(GlobalMaxPooling2D())\n",
        "model.add(Dense(1024, activation='relu'))\n",
        "model.add(Flatten())\n",
        "# if dropout_rate > 0:\n",
        "#     model.add(layers.Dropout(dropout_rate, name=\"dropout_out\"))\n",
        "model.add(layers.Dense(256, activation='relu'))\n",
        "model.add(Dense(1, activation='sigmoid')) #, name=\"output\"\n",
        "model.compile(loss='binary_crossentropy',\n",
        "            optimizer=RMSprop(lr=0.00001),\n",
        "            metrics=['accuracy'])"
      ],
      "execution_count": null,
      "outputs": []
    },
    {
      "cell_type": "code",
      "metadata": {
        "id": "Q_b5Hf4R2_vk"
      },
      "source": [
        "# CNN Model 5 (https://towardsdatascience.com/image-classifier-cats-vs-dogs-with-convolutional-neural-networks-cnns-and-google-colabs-4e9af21ae7a8)\n",
        "model = Sequential()\n",
        "\n",
        "model.add(Conv2D(32, (3, 3), padding='same', input_shape=input_shape, activation='relu'))\n",
        "model.add(Conv2D(32, (3, 3), activation=\"relu\", padding=\"same\"))\n",
        "model.add(MaxPooling2D(pool_size=(2, 2)))\n",
        "\n",
        "model.add(Conv2D(64, (3, 3), activation=\"relu\", padding=\"same\"))\n",
        "model.add(Conv2D(64, (3, 3), activation=\"relu\", padding=\"same\"))\n",
        "model.add(MaxPooling2D(pool_size=(2, 2)))\n",
        "\n",
        "model.add(Conv2D(128, (3, 3), activation=\"relu\", padding=\"same\"))\n",
        "model.add(Conv2D(128, (3, 3), activation=\"relu\", padding=\"same\"))\n",
        "model.add(MaxPooling2D(pool_size=(2, 2)))\n",
        "\n",
        "model.add(Conv2D(256, (3, 3), activation=\"relu\", padding=\"same\"))\n",
        "model.add(Conv2D(256, (3, 3), activation=\"relu\", padding=\"same\"))\n",
        "model.add(MaxPooling2D(pool_size=(2, 2)))\n",
        "\n",
        "model.add(Flatten())\n",
        "model.add(Dense(256, activation='relu'))\n",
        "model.add(Dropout(0.5))\n",
        "\n",
        "model.add(Dense(256, activation='relu'))\n",
        "model.add(Dropout(0.5))\n",
        "\n",
        "model.add(Dense(1))\n",
        "model.add(Activation('sigmoid'))\n",
        "\n",
        "model.compile(loss='binary_crossentropy',\n",
        "            optimizer='adam',\n",
        "            metrics=['accuracy'])\n",
        "\n",
        "with open(MODEL_SUMMARY_FILE,\"w\") as fh:\n",
        "    model.summary(print_fn=lambda line: fh.write(line + \"\\n\"))"
      ],
      "execution_count": null,
      "outputs": []
    },
    {
      "cell_type": "code",
      "metadata": {
        "id": "RHIFP_bR2_vo"
      },
      "source": [
        "# Data augmentation\n",
        "training_data_generator = ImageDataGenerator(\n",
        "    rescale=1./255,\n",
        "    shear_range=0.1,\n",
        "    zoom_range=0.1,\n",
        "    horizontal_flip=True)\n",
        "validation_data_generator = ImageDataGenerator(rescale=1./255)\n",
        "test_data_generator = ImageDataGenerator(rescale=1./255)"
      ],
      "execution_count": null,
      "outputs": []
    },
    {
      "cell_type": "code",
      "metadata": {
        "id": "Eg59ghwo2_vu"
      },
      "source": [
        "# Data preparation\n",
        "training_generator = training_data_generator.flow_from_directory(\n",
        "    training_data_dir,\n",
        "    target_size=(IMAGE_WIDTH, IMAGE_HEIGHT),\n",
        "    batch_size=BATCH_SIZE,\n",
        "    class_mode=\"binary\")\n",
        "validation_generator = validation_data_generator.flow_from_directory(\n",
        "    validation_data_dir,\n",
        "    target_size=(IMAGE_WIDTH, IMAGE_HEIGHT),\n",
        "    batch_size=BATCH_SIZE,\n",
        "    class_mode=\"binary\")\n",
        "test_generator = test_data_generator.flow_from_directory(\n",
        "    test_data_dir,\n",
        "    target_size=(IMAGE_WIDTH, IMAGE_HEIGHT),\n",
        "    batch_size=1,\n",
        "    class_mode=\"binary\", \n",
        "    shuffle=False)"
      ],
      "execution_count": null,
      "outputs": []
    },
    {
      "cell_type": "code",
      "metadata": {
        "id": "D_ngVlNPwBai"
      },
      "source": [
        "import os\n",
        "files_per_class = []\n",
        "lst = os.listdir(training_data_dir)\n",
        "lst.sort()\n",
        "for folder in lst:\n",
        "    if not os.path.isfile(folder):\n",
        "            files_per_class.append(len(os.listdir(training_data_dir + '/' + folder)))\n",
        "            print(\"train %s \" % folder + \": %0f\" % len(os.listdir(training_data_dir + '/' + folder)))\n",
        "            print(\"val %s \" % folder + \": %0f\" % len(os.listdir(validation_data_dir + '/' + folder)))\n",
        "total_files = sum(files_per_class)\n",
        "print(\"total %0f\" % total_files)\n",
        "class_weights = {}\n",
        "for i in range(len(files_per_class)):\n",
        "    class_weights[i] = 1 - (float(files_per_class[i]) / total_files)\n",
        "print (class_weights)"
      ],
      "execution_count": null,
      "outputs": []
    },
    {
      "cell_type": "code",
      "metadata": {
        "id": "1qq8bv7I2_vz"
      },
      "source": [
        "# Training\n",
        "import efficientnet.tfkeras\n",
        "from tensorflow.keras.models import load_model\n",
        "\n",
        "early_stop = EarlyStopping(monitor='val_loss', min_delta=0.001, patience=3, mode='min', verbose=1)\n",
        "checkpoint = ModelCheckpoint(MODEL_FILE, monitor='val_loss', verbose=1, save_best_only=True, mode='min', period=1)\n",
        "# comment this next line out if training from scratch!\n",
        "model = load_model(MODEL_FILE)\n",
        "model.fit_generator(\n",
        "    training_generator,\n",
        "    steps_per_epoch=len(training_generator.filenames) // BATCH_SIZE,\n",
        "    epochs=EPOCHS,\n",
        "    validation_data=validation_generator,\n",
        "    validation_steps=len(validation_generator.filenames) // BATCH_SIZE,\n",
        "    callbacks=[PlotLossesCallback(skip_first=0), CSVLogger(TRAINING_LOGS_FILE,\n",
        "                                            append=False,\n",
        "                                            separator=\";\"), early_stop, checkpoint], \n",
        "    verbose=1,\n",
        "    class_weight=class_weights)\n",
        "model.save(MODEL_FILE)"
      ],
      "execution_count": null,
      "outputs": []
    },
    {
      "cell_type": "code",
      "metadata": {
        "scrolled": true,
        "id": "QWbBWxTu2_v4"
      },
      "source": [
        "# Testing\n",
        "test_generator = test_data_generator.flow_from_directory(\n",
        "    test_data_dir,\n",
        "    target_size=(IMAGE_WIDTH, IMAGE_HEIGHT),\n",
        "    batch_size=1,\n",
        "    class_mode=\"binary\", \n",
        "    shuffle=False)\n",
        "probabilities = model.predict_generator(test_generator, TEST_SIZE)\n",
        "for index, probability in enumerate(probabilities):\n",
        "    image_path = test_data_dir + \"/\" +test_generator.filenames[index]\n",
        "    img = mpimg.imread(image_path)\n",
        "    plt.imshow(img)\n",
        "    if probability > 0.5:\n",
        "        plt.title(\"%s\" % image_path + \" %.2f\" % (probability[0]*100) + \"% good\")\n",
        "    else:\n",
        "        plt.title(\"%s\" % image_path + \" %.2f\" % ((1-probability[0])*100) + \"% bad\")\n",
        "    plt.show()"
      ],
      "execution_count": null,
      "outputs": []
    }
  ]
}